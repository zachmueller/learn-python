{
 "cells": [
  {
   "cell_type": "code",
   "execution_count": 52,
   "metadata": {
    "collapsed": false
   },
   "outputs": [
    {
     "name": "stdout",
     "output_type": "stream",
     "text": [
      "1\n",
      "45\n",
      "67\n",
      "34\n",
      "95\n",
      "42\n",
      "[1, 45, 67, 34, 95, 42]\n"
     ]
    }
   ],
   "source": [
    "# a = ['Mary', 'had', 'a', 'little', 'lamb']\n",
    "a = [1, 45, 67, 34, 95, 42]\n",
    "for i in a:\n",
    "    print(i)\n",
    "    i = i + 5\n",
    "print(a)"
   ]
  },
  {
   "cell_type": "code",
   "execution_count": 61,
   "metadata": {
    "collapsed": true
   },
   "outputs": [],
   "source": [
    "#import stuff\n",
    "from datetime import datetime, date, time\n",
    "import sys"
   ]
  },
  {
   "cell_type": "code",
   "execution_count": 54,
   "metadata": {
    "collapsed": false
   },
   "outputs": [],
   "source": [
    "# import question dictionary\n",
    "f = open('data/dictionary.txt', 'r')\n",
    "\n",
    "for line in f:\n",
    "    next_question[line.split('\\t')[0]] = line.split('\\t')[1]\n",
    "f.close()"
   ]
  },
  {
   "cell_type": "code",
   "execution_count": 65,
   "metadata": {
    "collapsed": false
   },
   "outputs": [
    {
     "name": "stdout",
     "output_type": "stream",
     "text": [
      "What did you prep?\n",
      "tomato\n"
     ]
    }
   ],
   "source": [
    "#1. taking input what they prepped\n",
    "errcheck = True\n",
    "while errcheck:\n",
    "    i = input('What did you prep?\\n')\n",
    "\n",
    "# validate input against dictionary keys\n",
    "    if i in next_question:\n",
    "        errcheck = False\n",
    "    elif i == '':\n",
    "        sys.exit()\n",
    "    else:\n",
    "        print('invalid input')\n",
    "    "
   ]
  },
  {
   "cell_type": "code",
   "execution_count": 66,
   "metadata": {
    "collapsed": false
   },
   "outputs": [
    {
     "name": "stdout",
     "output_type": "stream",
     "text": [
      "How many pans of tomatoes did you prep?\n",
      "\n",
      "\n"
     ]
    },
    {
     "ename": "SystemExit",
     "evalue": "",
     "output_type": "error",
     "traceback": [
      "An exception has occurred, use %tb to see the full traceback.\n",
      "\u001b[1;31mSystemExit\u001b[0m\n"
     ]
    },
    {
     "name": "stderr",
     "output_type": "stream",
     "text": [
      "To exit: use 'exit', 'quit', or Ctrl-D.\n"
     ]
    }
   ],
   "source": [
    "#2. taking input how much they prep\n",
    "a = ''\n",
    "while not a.isdigit():\n",
    "    a = input((next_question[i]) + '\\n')\n",
    "# handle exiting the loop\n",
    "    if a == '':\n",
    "        sys.exit()"
   ]
  },
  {
   "cell_type": "code",
   "execution_count": null,
   "metadata": {
    "collapsed": false
   },
   "outputs": [],
   "source": [
    "#3. storing input\n",
    "f = open('data/panera-log.txt', 'a')\n",
    "f.write(i + '\\t' + a + '\\t' + str(datetime.now()) + '\\n')\n",
    "f.close()\n",
    "print(i + '\\t' + a + '\\t' + str(datetime.now()) + '\\n')"
   ]
  },
  {
   "cell_type": "code",
   "execution_count": 95,
   "metadata": {
    "collapsed": false
   },
   "outputs": [],
   "source": [
    "def generateData(n, file_name):\n",
    "    import numpy as np\n",
    "    import os\n",
    "    \n",
    "    #check if file exists\n",
    "    if os.path.isfile(file_name):\n",
    "        os.remove(file_name)\n",
    "    \n",
    "    \n",
    "    # open file with list of valid inputs\n",
    "    f = open('data/dictionary.txt', 'r')\n",
    "    sample_list = []\n",
    "    \n",
    "    # feed inputs from file into list\n",
    "    for line in f:\n",
    "        sample_list.append(line.split('\\t')[0])\n",
    "    f.close()\n",
    "    \n",
    "    f = open(file_name, 'a')\n",
    "    # randomly generate output\n",
    "    for i in range(n):\n",
    "        x = np.random.random_integers(0, len(sample_list) - 1)\n",
    "        a = np.random.random_integers(0, 5)\n",
    "        f.write(sample_list[x] + '\\t' + str(a) + '\\t' + str(datetime.now()) + '\\n')\n",
    "    f.close()"
   ]
  },
  {
   "cell_type": "code",
   "execution_count": 98,
   "metadata": {
    "collapsed": false
   },
   "outputs": [],
   "source": [
    "generateData(1000, 'data/randpanera.txt')"
   ]
  }
 ],
 "metadata": {
  "kernelspec": {
   "display_name": "Python 3",
   "language": "python",
   "name": "python3"
  },
  "language_info": {
   "codemirror_mode": {
    "name": "ipython",
    "version": 3
   },
   "file_extension": ".py",
   "mimetype": "text/x-python",
   "name": "python",
   "nbconvert_exporter": "python",
   "pygments_lexer": "ipython3",
   "version": "3.4.3"
  }
 },
 "nbformat": 4,
 "nbformat_minor": 0
}
