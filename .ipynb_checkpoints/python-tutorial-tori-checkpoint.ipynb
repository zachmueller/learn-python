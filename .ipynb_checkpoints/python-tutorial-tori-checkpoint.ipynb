{
 "cells": [
  {
   "cell_type": "code",
   "execution_count": 14,
   "metadata": {
    "collapsed": false
   },
   "outputs": [
    {
     "name": "stdout",
     "output_type": "stream",
     "text": [
      "1\n",
      "45\n",
      "67\n",
      "34\n",
      "95\n",
      "42\n",
      "[1, 45, 67, 34, 95, 42]\n"
     ]
    }
   ],
   "source": [
    "# a = ['Mary', 'had', 'a', 'little', 'lamb']\n",
    "a = [1, 45, 67, 34, 95, 42]\n",
    "for i in a:\n",
    "    print(i)\n",
    "    i = i + 5\n",
    "print(a)"
   ]
  },
  {
   "cell_type": "code",
   "execution_count": 15,
   "metadata": {
    "collapsed": false
   },
   "outputs": [],
   "source": [
    "# create dictionary\n",
    "next_question = {'tomato':'How many pans did you prep?'}"
   ]
  },
  {
   "cell_type": "code",
   "execution_count": 16,
   "metadata": {
    "collapsed": false
   },
   "outputs": [
    {
     "name": "stdout",
     "output_type": "stream",
     "text": [
      "What did you prep?\n",
      "tomato\n"
     ]
    }
   ],
   "source": [
    "#1. taking input what they prepped\n",
    "i = input('What did you prep?\\n')\n",
    "\n",
    "# validate input against dictionary keys"
   ]
  },
  {
   "cell_type": "code",
   "execution_count": 17,
   "metadata": {
    "collapsed": false
   },
   "outputs": [
    {
     "name": "stdout",
     "output_type": "stream",
     "text": [
      "How many pans did you prep?\n",
      "3\n"
     ]
    }
   ],
   "source": [
    "#2. taking input how much they prep\n",
    "a = ''\n",
    "while not a.isdigit():\n",
    "    a = input((next_question[i]) + '\\n')\n",
    "# handle exiting the loop\n"
   ]
  },
  {
   "cell_type": "code",
   "execution_count": 18,
   "metadata": {
    "collapsed": false
   },
   "outputs": [
    {
     "data": {
      "text/plain": [
       "'3'"
      ]
     },
     "execution_count": 18,
     "metadata": {},
     "output_type": "execute_result"
    }
   ],
   "source": [
    "#3. storing input\n",
    "f = open('panera-log.txt', 'a')\n",
    "f.write(i + '\\t' + a)"
   ]
  }
 ],
 "metadata": {
  "kernelspec": {
   "display_name": "Python 3",
   "language": "python",
   "name": "python3"
  },
  "language_info": {
   "codemirror_mode": {
    "name": "ipython",
    "version": 3
   },
   "file_extension": ".py",
   "mimetype": "text/x-python",
   "name": "python",
   "nbconvert_exporter": "python",
   "pygments_lexer": "ipython3",
   "version": "3.4.3"
  }
 },
 "nbformat": 4,
 "nbformat_minor": 0
}
