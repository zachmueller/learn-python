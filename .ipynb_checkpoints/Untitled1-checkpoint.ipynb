{
 "cells": [
  {
   "cell_type": "code",
   "execution_count": 30,
   "metadata": {
    "collapsed": true
   },
   "outputs": [],
   "source": [
    "import sqlite3 as lite\n",
    "from datetime import datetime, date, time\n",
    "import sys"
   ]
  },
  {
   "cell_type": "code",
   "execution_count": 31,
   "metadata": {
    "collapsed": false,
    "scrolled": false
   },
   "outputs": [],
   "source": [
    "sql_db = 'temp.sqlite'\n",
    "conn = lite.connect(sql_db)\n",
    "c = conn.cursor()\n"
   ]
  },
  {
   "cell_type": "code",
   "execution_count": 32,
   "metadata": {
    "collapsed": false
   },
   "outputs": [],
   "source": [
    "# import question dictionary\n",
    "f = open('data/dictionary.txt', 'r')\n",
    "\n",
    "next_question = {}\n",
    "for line in f:\n",
    "    next_question[line.split('\\t')[0]] = line.split('\\t')[1]\n",
    "f.close()"
   ]
  },
  {
   "cell_type": "code",
   "execution_count": 33,
   "metadata": {
    "collapsed": false
   },
   "outputs": [],
   "source": [
    "#c.execute(\"\"\"\n",
    "#create table prep_log(\n",
    " #   food_item varchar(50), \n",
    "#  quantity int,\n",
    "  #prep_time datetime\n",
    "#)\n",
    "#\"\"\")"
   ]
  },
  {
   "cell_type": "code",
   "execution_count": 34,
   "metadata": {
    "collapsed": false
   },
   "outputs": [
    {
     "name": "stdout",
     "output_type": "stream",
     "text": [
      "What did you prep?\n",
      "pineapple\n"
     ]
    }
   ],
   "source": [
    "#1. taking input what they prepped\n",
    "errcheck = True\n",
    "while errcheck:\n",
    "    i = input('What did you prep?\\n')\n",
    "\n",
    "# validate input against dictionary keys\n",
    "    if i in next_question:\n",
    "        errcheck = False\n",
    "    elif i == '':\n",
    "        sys.exit()\n",
    "    else:\n",
    "        print('invalid input')\n",
    "    "
   ]
  },
  {
   "cell_type": "code",
   "execution_count": 35,
   "metadata": {
    "collapsed": false
   },
   "outputs": [
    {
     "name": "stdout",
     "output_type": "stream",
     "text": [
      "How many pans of pineapple did you prep?\n",
      "4\n"
     ]
    }
   ],
   "source": [
    "#2. taking input how much they prep\n",
    "a = ''\n",
    "while not a.isdigit():\n",
    "    a = input((next_question[i]) + '\\n')\n",
    "# handle exiting the loop\n",
    "    if a == '':\n",
    "        sys.exit()"
   ]
  },
  {
   "cell_type": "code",
   "execution_count": 36,
   "metadata": {
    "collapsed": false
   },
   "outputs": [],
   "source": [
    "#c.execute(\"\"\"\n",
    "#INSERT INTO prep_log (food_item, quantity, prep_time)\n",
    "#VALUES ('onions', 5, DATE('now'))\n",
    "#\"\"\")\n"
   ]
  },
  {
   "cell_type": "code",
   "execution_count": 37,
   "metadata": {
    "collapsed": false
   },
   "outputs": [
    {
     "data": {
      "text/plain": [
       "<sqlite3.Cursor at 0x54732d0>"
      ]
     },
     "execution_count": 37,
     "metadata": {},
     "output_type": "execute_result"
    }
   ],
   "source": [
    "c.execute(\"\"\"\n",
    "INSERT INTO prep_log (food_item, quantity, prep_time)\n",
    "VALUES (?, ?, ?)\n",
    "\"\"\", (i, int(a), datetime.now()))"
   ]
  },
  {
   "cell_type": "code",
   "execution_count": 38,
   "metadata": {
    "collapsed": false
   },
   "outputs": [
    {
     "name": "stdout",
     "output_type": "stream",
     "text": [
      "1): [('onion', 4, '2015-11-14 17:21:14.779121'), ('tomato', 2, '2015-11-14 17:21:39.119072'), ('pineapple', 4, '2015-11-14 17:21:50.172220')]\n"
     ]
    }
   ],
   "source": [
    "c.execute('SELECT * from prep_log')\n",
    "all_rows = c.fetchall()\n",
    "print('1):', all_rows)"
   ]
  },
  {
   "cell_type": "code",
   "execution_count": 39,
   "metadata": {
    "collapsed": false
   },
   "outputs": [],
   "source": [
    "conn.commit()\n",
    "conn.close()"
   ]
  }
 ],
 "metadata": {
  "kernelspec": {
   "display_name": "Python 3",
   "language": "python",
   "name": "python3"
  },
  "language_info": {
   "codemirror_mode": {
    "name": "ipython",
    "version": 3
   },
   "file_extension": ".py",
   "mimetype": "text/x-python",
   "name": "python",
   "nbconvert_exporter": "python",
   "pygments_lexer": "ipython3",
   "version": "3.4.3"
  }
 },
 "nbformat": 4,
 "nbformat_minor": 0
}
