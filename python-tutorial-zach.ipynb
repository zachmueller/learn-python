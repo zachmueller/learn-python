{
 "cells": [
  {
   "cell_type": "code",
   "execution_count": 11,
   "metadata": {
    "collapsed": false
   },
   "outputs": [
    {
     "name": "stdout",
     "output_type": "stream",
     "text": [
      "1\n",
      "1\n",
      "2\n",
      "3\n",
      "5\n",
      "8\n"
     ]
    }
   ],
   "source": [
    "a, b = 0, 1\n",
    "while b < 10:\n",
    "    print(b)\n",
    "    if b > 5:\n",
    "        b = 9\n",
    "        # in the if\n",
    "    # in the while\n",
    "    a, b = b, a+b"
   ]
  },
  {
   "cell_type": "code",
   "execution_count": 1,
   "metadata": {
    "collapsed": false
   },
   "outputs": [
    {
     "name": "stdout",
     "output_type": "stream",
     "text": [
      "area_fips, own_code, industry_code, agglvl_code, size_code, year, qtr, disclosure_code, area_title, own_title, industry_title, agglvl_title, size_title, qtrly_estabs_count, month1_emplvl, month2_emplvl, month3_emplvl, total_qtrly_wages, taxable_qtrly_wages, qtrly_contributions, avg_wkly_wage, lq_disclosure_code, lq_qtrly_estabs_count, lq_month1_emplvl, lq_month2_emplvl, lq_month3_emplvl, lq_total_qtrly_wages, lq_taxable_qtrly_wages, lq_qtrly_contributions, lq_avg_wkly_wage\n",
      "C4170, 0, 10, 40, 0, 2014, 1, , San Antonio-New Braunfels, TX MSA, Total Covered, Total, all industries, MSA, Total Covered, All establishment sizes, 45828, 888979, 897270, 904941, 10412751522, 4468274618, 108332336, 893, , 1.00, 1.00, 1.00, 1.00, 1.00, 1.00, 1.00, 1.00\n",
      "C4170, 0, 10, 40, 0, 2014, 2, , San Antonio-New Braunfels, TX MSA, Total Covered, Total, all industries, MSA, Total Covered, All establishment sizes, 45927, 912463, 919313, 922940, 9780955056, 1479279109, 31022059, 819, , 1.00, 1.00, 1.00, 1.00, 1.00, 1.00, 1.00, 1.00\n",
      "C4170, 0, 10, 40, 0, 2014, 3, , San Antonio-New Braunfels, TX MSA, Total Covered, Total, all industries, MSA, Total Covered, All establishment sizes, 46264, 916279, 918965, 921911, 10038110075, 977838059, 20943403, 840, , 1.00, 1.00, 1.00, 1.00, 1.00, 1.00, 1.00, 1.00\n",
      "C4170, 1, 10, 41, 0, 2014, 1, , San Antonio-New Braunfels, TX MSA, Federal Government, Total, all industries, MSA, Total -- by ownership sector, All establishment sizes, 268, 34274, 34385, 34368, 605721539, 0, 0, 1357, , 0.89, 1.89, 1.89, 1.88, 1.95, 0.00, 0.00, 1.03\n"
     ]
    }
   ],
   "source": [
    "# try reading in first few lines of csv\n",
    "import csv\n",
    "i = 0\n",
    "with open('data/2014.q1-q3 C4170 San Antonio-New Braunfels, TX MSA.csv', newline='') as csvfile:\n",
    "    census_data = csv.reader(csvfile, delimiter=',', quotechar='\"')\n",
    "    for row in census_data:\n",
    "        i = i + 1\n",
    "        if i > 5:\n",
    "            break\n",
    "        print(', '.join(row))"
   ]
  },
  {
   "cell_type": "code",
   "execution_count": 14,
   "metadata": {
    "collapsed": false
   },
   "outputs": [
    {
     "data": {
      "text/plain": [
       "1"
      ]
     },
     "execution_count": 14,
     "metadata": {},
     "output_type": "execute_result"
    }
   ],
   "source": [
    "import numpy as np\n",
    "np.random.random_integers(0, 5)"
   ]
  },
  {
   "cell_type": "code",
   "execution_count": 13,
   "metadata": {
    "collapsed": false
   },
   "outputs": [],
   "source": [
    "f = open('../test.txt', 'r')\n",
    "sample_list = []\n",
    "\n",
    "i = 0\n",
    "for line in f:\n",
    "    sample_list.append(line.split('\\t')[0])\n",
    "    i = i + 1\n",
    "\n",
    "f.close()"
   ]
  },
  {
   "cell_type": "code",
   "execution_count": 21,
   "metadata": {
    "collapsed": false
   },
   "outputs": [
    {
     "name": "stdout",
     "output_type": "stream",
     "text": [
      "tomato\n",
      "tomato\n",
      "onion\n",
      "tomato\n",
      "pineapple\n",
      "onion\n",
      "onion\n",
      "pineapple\n",
      "tomato\n",
      "pineapple\n",
      "pineapple\n",
      "tomato\n",
      "onion\n",
      "pineapple\n",
      "onion\n",
      "pineapple\n",
      "tomato\n",
      "onion\n",
      "onion\n",
      "onion\n"
     ]
    }
   ],
   "source": [
    "for i in range(20):\n",
    "    x = np.random.random_integers(0, len(sample_list) - 1)\n",
    "    print(sample_list[x])"
   ]
  }
 ],
 "metadata": {
  "kernelspec": {
   "display_name": "Python 3",
   "language": "python",
   "name": "python3"
  },
  "language_info": {
   "codemirror_mode": {
    "name": "ipython",
    "version": 3
   },
   "file_extension": ".py",
   "mimetype": "text/x-python",
   "name": "python",
   "nbconvert_exporter": "python",
   "pygments_lexer": "ipython3",
   "version": "3.4.1"
  }
 },
 "nbformat": 4,
 "nbformat_minor": 0
}
