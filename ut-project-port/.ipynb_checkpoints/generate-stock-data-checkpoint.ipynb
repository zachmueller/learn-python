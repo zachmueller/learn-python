{
 "cells": [
  {
   "cell_type": "code",
   "execution_count": 1,
   "metadata": {
    "collapsed": true
   },
   "outputs": [],
   "source": [
    "import numpy as np\n",
    "import pandas as pd\n",
    "import datetime \n",
    "from dateutil.relativedelta import relativedelta\n",
    "import matplotlib.pyplot as plt\n",
    "%matplotlib inline"
   ]
  },
  {
   "cell_type": "code",
   "execution_count": 2,
   "metadata": {
    "collapsed": false
   },
   "outputs": [],
   "source": [
    "# set input variables\n",
    "start_price = np.random.normal(size = 1, loc = 10.0, scale = .05) # somewhere near $10\n",
    "beta = 1.2\n",
    "beta_miss = 0.0007\n",
    "start_date = datetime.date(1990, 1, 1)\n",
    "months_pricing_data = 25 * 12\n",
    "end_date = start_date + relativedelta(months=months_pricing_data)\n",
    "\n",
    "start_headcount = 10\n",
    "end_headcount = 2000\n",
    "\n",
    "initial_stock_options = 1e7 # number of shares for founding team\n",
    "founder_ownership_percent = 0.5\n",
    "initial_shares_outstanding = initial_stock_options / founder_ownership_percent"
   ]
  },
  {
   "cell_type": "code",
   "execution_count": 3,
   "metadata": {
    "collapsed": false
   },
   "outputs": [
    {
     "data": {
      "text/html": [
       "<div>\n",
       "<table border=\"1\" class=\"dataframe\">\n",
       "  <thead>\n",
       "    <tr style=\"text-align: right;\">\n",
       "      <th></th>\n",
       "      <th>date</th>\n",
       "      <th>Adj Close</th>\n",
       "      <th>Prior Close</th>\n",
       "      <th>Percent Change</th>\n",
       "    </tr>\n",
       "    <tr>\n",
       "      <th>date</th>\n",
       "      <th></th>\n",
       "      <th></th>\n",
       "      <th></th>\n",
       "      <th></th>\n",
       "    </tr>\n",
       "  </thead>\n",
       "  <tbody>\n",
       "    <tr>\n",
       "      <th>2015-03-13</th>\n",
       "      <td>2015-03-13</td>\n",
       "      <td>2053.40</td>\n",
       "      <td>2065.95</td>\n",
       "      <td>-0.006075</td>\n",
       "    </tr>\n",
       "    <tr>\n",
       "      <th>2015-03-12</th>\n",
       "      <td>2015-03-12</td>\n",
       "      <td>2065.95</td>\n",
       "      <td>2040.24</td>\n",
       "      <td>0.012601</td>\n",
       "    </tr>\n",
       "    <tr>\n",
       "      <th>2015-03-11</th>\n",
       "      <td>2015-03-11</td>\n",
       "      <td>2040.24</td>\n",
       "      <td>2044.16</td>\n",
       "      <td>-0.001918</td>\n",
       "    </tr>\n",
       "    <tr>\n",
       "      <th>2015-03-10</th>\n",
       "      <td>2015-03-10</td>\n",
       "      <td>2044.16</td>\n",
       "      <td>2079.43</td>\n",
       "      <td>-0.016961</td>\n",
       "    </tr>\n",
       "    <tr>\n",
       "      <th>2015-03-09</th>\n",
       "      <td>2015-03-09</td>\n",
       "      <td>2079.43</td>\n",
       "      <td>2071.26</td>\n",
       "      <td>0.003944</td>\n",
       "    </tr>\n",
       "  </tbody>\n",
       "</table>\n",
       "</div>"
      ],
      "text/plain": [
       "                 date  Adj Close  Prior Close  Percent Change\n",
       "date                                                         \n",
       "2015-03-13 2015-03-13    2053.40      2065.95       -0.006075\n",
       "2015-03-12 2015-03-12    2065.95      2040.24        0.012601\n",
       "2015-03-11 2015-03-11    2040.24      2044.16       -0.001918\n",
       "2015-03-10 2015-03-10    2044.16      2079.43       -0.016961\n",
       "2015-03-09 2015-03-09    2079.43      2071.26        0.003944"
      ]
     },
     "execution_count": 3,
     "metadata": {},
     "output_type": "execute_result"
    }
   ],
   "source": [
    "# import market csv file\n",
    "file_name = 'data/S&P500.csv'\n",
    "# load csv into date frame\n",
    "market = pd.read_csv(file_name, parse_dates = ['date'])\n",
    "market = market.set_index(['date'], drop = False)\n",
    "market = market[['date', 'Adj Close']]\n",
    "# add in prior date's price and % change day over day\n",
    "market['Prior Close'] = market['Adj Close'].shift(-1)\n",
    "#market[, Pct.Change:=((Adj.Close - Prior.Close)/Prior.Close)];\n",
    "market['Percent Change'] = ((market['Adj Close'] - market['Prior Close'])/market['Prior Close'])\n",
    "market.head()"
   ]
  },
  {
   "cell_type": "code",
   "execution_count": 4,
   "metadata": {
    "collapsed": false
   },
   "outputs": [],
   "source": [
    "# extract relevant date range from market data\n",
    "dates = pd.date_range(start_date, end_date, freq = 'D')\n",
    "stock = market.reindex(dates, fill_value=None)"
   ]
  },
  {
   "cell_type": "code",
   "execution_count": 5,
   "metadata": {
    "collapsed": false
   },
   "outputs": [
    {
     "data": {
      "text/html": [
       "<div>\n",
       "<table border=\"1\" class=\"dataframe\">\n",
       "  <thead>\n",
       "    <tr style=\"text-align: right;\">\n",
       "      <th></th>\n",
       "      <th>date</th>\n",
       "      <th>Adj Close</th>\n",
       "      <th>Prior Close</th>\n",
       "      <th>Percent Change</th>\n",
       "    </tr>\n",
       "  </thead>\n",
       "  <tbody>\n",
       "    <tr>\n",
       "      <th>1990-01-01</th>\n",
       "      <td>NaT</td>\n",
       "      <td>NaN</td>\n",
       "      <td>NaN</td>\n",
       "      <td>NaN</td>\n",
       "    </tr>\n",
       "    <tr>\n",
       "      <th>1990-01-02</th>\n",
       "      <td>1990-01-02</td>\n",
       "      <td>359.69</td>\n",
       "      <td>353.40</td>\n",
       "      <td>0.017799</td>\n",
       "    </tr>\n",
       "    <tr>\n",
       "      <th>1990-01-03</th>\n",
       "      <td>1990-01-03</td>\n",
       "      <td>358.76</td>\n",
       "      <td>359.69</td>\n",
       "      <td>-0.002586</td>\n",
       "    </tr>\n",
       "    <tr>\n",
       "      <th>1990-01-04</th>\n",
       "      <td>1990-01-04</td>\n",
       "      <td>355.67</td>\n",
       "      <td>358.76</td>\n",
       "      <td>-0.008613</td>\n",
       "    </tr>\n",
       "    <tr>\n",
       "      <th>1990-01-05</th>\n",
       "      <td>1990-01-05</td>\n",
       "      <td>352.20</td>\n",
       "      <td>355.67</td>\n",
       "      <td>-0.009756</td>\n",
       "    </tr>\n",
       "  </tbody>\n",
       "</table>\n",
       "</div>"
      ],
      "text/plain": [
       "                 date  Adj Close  Prior Close  Percent Change\n",
       "1990-01-01        NaT        NaN          NaN             NaN\n",
       "1990-01-02 1990-01-02     359.69       353.40        0.017799\n",
       "1990-01-03 1990-01-03     358.76       359.69       -0.002586\n",
       "1990-01-04 1990-01-04     355.67       358.76       -0.008613\n",
       "1990-01-05 1990-01-05     352.20       355.67       -0.009756"
      ]
     },
     "execution_count": 5,
     "metadata": {},
     "output_type": "execute_result"
    }
   ],
   "source": [
    "market['p'] = market['Percent Change'] + 1\n",
    "market['c'] = market['p'].cumprod()\n",
    "#market.tail()\n",
    "stock.head()"
   ]
  },
  {
   "cell_type": "code",
   "execution_count": 6,
   "metadata": {
    "collapsed": false
   },
   "outputs": [
    {
     "data": {
      "text/plain": [
       "<matplotlib.axes._subplots.AxesSubplot at 0x884c9e8>"
      ]
     },
     "execution_count": 6,
     "metadata": {},
     "output_type": "execute_result"
    },
    {
     "data": {
      "image/png": "[encoded data removed]",
      "text/plain": [
       "<matplotlib.figure.Figure at 0x7e4ab38>"
      ]
     },
     "metadata": {},
     "output_type": "display_data"
    }
   ],
   "source": [
    "# use stock market price data and input Beta to back into a stock price\n",
    "# multiply the market % change by the input Beta,\n",
    "# using a random factor of \"missing\" a perfect Beta\n",
    "stock['Variation'] = pd.Series(np.random.normal(size = stock['Adj Close'].size, \n",
    "                                                loc = 0, scale = beta_miss), \n",
    "                              index = stock.index)\n",
    "stock['Percent Change B'] = stock['Percent Change'] * beta + stock['Variation']\n",
    "stock['Percent Change B'] = stock['Percent Change B'] + 1\n",
    "\n",
    "# add in starting stock price\n",
    "stock['Price'] = np.repeat(start_price, stock['Adj Close'].size)\n",
    "\n",
    "# calculate the cumulative product of the Beta-adjusted percent changes\n",
    "stock['Percent Change Cumulative'] = stock['Percent Change B'].cumprod()\n",
    "stock['Price'] = stock['Price'] * stock['Percent Change Cumulative']\n",
    "stock['Price'] = stock['Price'].round(2)\n",
    "\n",
    "# take a look at the stock price in a simple plot\n",
    "stock['Price'].plot(kind = 'line', figsize = (12,9))"
   ]
  },
  {
   "cell_type": "code",
   "execution_count": 7,
   "metadata": {
    "collapsed": false
   },
   "outputs": [],
   "source": [
    "# import first and last name lists from csv files\n",
    "file_name = 'data/CSV_Database_of_First_Names.csv'\n",
    "first_names = pd.read_csv(file_name)\n",
    "file_name = 'data/CSV_Database_of_Last_Names.csv'\n",
    "last_names = pd.read_csv(file_name)"
   ]
  },
  {
   "cell_type": "code",
   "execution_count": 8,
   "metadata": {
    "collapsed": false
   },
   "outputs": [],
   "source": [
    "# add some randomization to the inputs\n",
    "company_start_date = stock['date'].min() - datetime.timedelta(days = 5 * 365) + (\n",
    "                        datetime.timedelta(days = np.random.randint(-45, 45)))\n",
    "start_headcount = np.round(np.random.normal(size = 1, loc = start_headcount, \n",
    "                                            scale = (start_headcount * 0.15)), 0)\n",
    "end_headcount = np.round(np.random.normal(size = 1, loc = end_headcount, \n",
    "                                            scale = (end_headcount * 0.15)), 0)"
   ]
  },
  {
   "cell_type": "code",
   "execution_count": 9,
   "metadata": {
    "collapsed": false
   },
   "outputs": [
    {
     "name": "stderr",
     "output_type": "stream",
     "text": [
      "C:\\Python34\\lib\\site-packages\\ipykernel\\__main__.py:2: DeprecationWarning: using a non-integer number instead of an integer will result in an error in the future\n",
      "  from ipykernel import kernelapp as app\n",
      "C:\\Python34\\lib\\site-packages\\ipykernel\\__main__.py:3: DeprecationWarning: using a non-integer number instead of an integer will result in an error in the future\n",
      "  app.launch_new_instance()\n"
     ]
    },
    {
     "data": {
      "text/html": [
       "<div>\n",
       "<table border=\"1\" class=\"dataframe\">\n",
       "  <thead>\n",
       "    <tr style=\"text-align: right;\">\n",
       "      <th></th>\n",
       "      <th>First Name</th>\n",
       "      <th>Last Name</th>\n",
       "    </tr>\n",
       "  </thead>\n",
       "  <tbody>\n",
       "    <tr>\n",
       "      <th>0</th>\n",
       "      <td>Tyron</td>\n",
       "      <td>Kinney</td>\n",
       "    </tr>\n",
       "    <tr>\n",
       "      <th>1</th>\n",
       "      <td>Michell</td>\n",
       "      <td>Struve</td>\n",
       "    </tr>\n",
       "    <tr>\n",
       "      <th>2</th>\n",
       "      <td>Jeanetta</td>\n",
       "      <td>Surls</td>\n",
       "    </tr>\n",
       "    <tr>\n",
       "      <th>3</th>\n",
       "      <td>Nery</td>\n",
       "      <td>Hilles</td>\n",
       "    </tr>\n",
       "    <tr>\n",
       "      <th>4</th>\n",
       "      <td>Rowena</td>\n",
       "      <td>Carriedo</td>\n",
       "    </tr>\n",
       "  </tbody>\n",
       "</table>\n",
       "</div>"
      ],
      "text/plain": [
       "  First Name Last Name\n",
       "0      Tyron    Kinney\n",
       "1    Michell    Struve\n",
       "2   Jeanetta     Surls\n",
       "3       Nery    Hilles\n",
       "4     Rowena  Carriedo"
      ]
     },
     "execution_count": 9,
     "metadata": {},
     "output_type": "execute_result"
    }
   ],
   "source": [
    "# create list of employee names, randomly sampling from name lists\n",
    "employees = pd.DataFrame({'First Name':np.random.choice(first_names['firstname'], size = end_headcount),\n",
    "                         'Last Name':np.random.choice(last_names['lastname'], size = end_headcount)})\n",
    "employees.head()"
   ]
  },
  {
   "cell_type": "code",
   "execution_count": 10,
   "metadata": {
    "collapsed": false
   },
   "outputs": [
    {
     "name": "stderr",
     "output_type": "stream",
     "text": [
      "C:\\Python34\\lib\\site-packages\\ipykernel\\__main__.py:8: DeprecationWarning: using a non-integer number instead of an integer will result in an error in the future\n"
     ]
    }
   ],
   "source": [
    "# choose a random set (around years * 8) of dates between company_start_date and\n",
    "# the end date as batch hiring days.\n",
    "end_date = stock['date'].max()\n",
    "hire_days_count = np.round(np.random.normal(size = 1, \n",
    "                                         loc = ((end_date - company_start_date).days / 365) * 8,\n",
    "                                         scale = 10), 0)\n",
    "hiring_dates = np.random.choice(stock[stock['date'].notnull()]['date'],\n",
    "                                size = hire_days_count)\n",
    "hiring_dates = np.sort(hiring_dates)"
   ]
  }
 ],
 "metadata": {
  "kernelspec": {
   "display_name": "Python 3",
   "language": "python",
   "name": "python3"
  },
  "language_info": {
   "codemirror_mode": {
    "name": "ipython",
    "version": 3
   },
   "file_extension": ".py",
   "mimetype": "text/x-python",
   "name": "python",
   "nbconvert_exporter": "python",
   "pygments_lexer": "ipython3",
   "version": "3.4.1"
  }
 },
 "nbformat": 4,
 "nbformat_minor": 0
}
