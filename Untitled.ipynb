{
 "cells": [
  {
   "cell_type": "code",
   "execution_count": 6,
   "metadata": {
    "collapsed": false
   },
   "outputs": [
    {
     "name": "stdout",
     "output_type": "stream",
     "text": [
      "SQLite version: 3.8.3.1\n"
     ]
    }
   ],
   "source": [
    "import sqlite3 as lite\n",
    "import sys\n",
    "\n",
    "con = None\n",
    "\n",
    "try:\n",
    "    con = lite.connect('test.db')\n",
    "    \n",
    "    cur = con.cursor()    \n",
    "    cur.execute('SELECT SQLITE_VERSION()')\n",
    "    \n",
    "    data = cur.fetchone()\n",
    "    \n",
    "    print (\"SQLite version: \" + data[0])                \n",
    "    \n",
    "except lite.Error:\n",
    "    \n",
    "    print (\"Error :\" + args[0])\n",
    "    sys.exit(1)\n",
    "    \n",
    "finally:\n",
    "    \n",
    "    if con:\n",
    "        con.close()"
   ]
  }
 ],
 "metadata": {
  "kernelspec": {
   "display_name": "Python 3",
   "language": "python",
   "name": "python3"
  },
  "language_info": {
   "codemirror_mode": {
    "name": "ipython",
    "version": 3
   },
   "file_extension": ".py",
   "mimetype": "text/x-python",
   "name": "python",
   "nbconvert_exporter": "python",
   "pygments_lexer": "ipython3",
   "version": "3.4.3"
  }
 },
 "nbformat": 4,
 "nbformat_minor": 0
}
